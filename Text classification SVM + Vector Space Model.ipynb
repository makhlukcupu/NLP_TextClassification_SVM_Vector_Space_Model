{
 "cells": [
  {
   "cell_type": "code",
   "execution_count": 30,
   "id": "78f91a8e",
   "metadata": {},
   "outputs": [],
   "source": [
    "import sklearn\n",
    "import nltk\n",
    "import pandas as pd\n",
    "import numpy as np"
   ]
  },
  {
   "cell_type": "code",
   "execution_count": 31,
   "id": "0cd1a2d5",
   "metadata": {},
   "outputs": [
    {
     "data": {
      "text/html": [
       "<div>\n",
       "<style scoped>\n",
       "    .dataframe tbody tr th:only-of-type {\n",
       "        vertical-align: middle;\n",
       "    }\n",
       "\n",
       "    .dataframe tbody tr th {\n",
       "        vertical-align: top;\n",
       "    }\n",
       "\n",
       "    .dataframe thead th {\n",
       "        text-align: right;\n",
       "    }\n",
       "</style>\n",
       "<table border=\"1\" class=\"dataframe\">\n",
       "  <thead>\n",
       "    <tr style=\"text-align: right;\">\n",
       "      <th></th>\n",
       "      <th>text_a</th>\n",
       "      <th>label</th>\n",
       "    </tr>\n",
       "  </thead>\n",
       "  <tbody>\n",
       "    <tr>\n",
       "      <th>0</th>\n",
       "      <td>betewe buka twitter cuman ngetweet liat home b...</td>\n",
       "      <td>0</td>\n",
       "    </tr>\n",
       "    <tr>\n",
       "      <th>1</th>\n",
       "      <td>mas piyuuu mugo2 corona tuh mulut tersumpal ma...</td>\n",
       "      <td>0</td>\n",
       "    </tr>\n",
       "    <tr>\n",
       "      <th>2</th>\n",
       "      <td>e100ss gini buka informasi sejelas nya identit...</td>\n",
       "      <td>1</td>\n",
       "    </tr>\n",
       "    <tr>\n",
       "      <th>3</th>\n",
       "      <td>neng solo wes ono terduga corona cobo neng ati...</td>\n",
       "      <td>0</td>\n",
       "    </tr>\n",
       "    <tr>\n",
       "      <th>4</th>\n",
       "      <td>midiahn nii akun gak takut takut nya isu coron...</td>\n",
       "      <td>0</td>\n",
       "    </tr>\n",
       "  </tbody>\n",
       "</table>\n",
       "</div>"
      ],
      "text/plain": [
       "                                              text_a  label\n",
       "0  betewe buka twitter cuman ngetweet liat home b...      0\n",
       "1  mas piyuuu mugo2 corona tuh mulut tersumpal ma...      0\n",
       "2  e100ss gini buka informasi sejelas nya identit...      1\n",
       "3  neng solo wes ono terduga corona cobo neng ati...      0\n",
       "4  midiahn nii akun gak takut takut nya isu coron...      0"
      ]
     },
     "execution_count": 31,
     "metadata": {},
     "output_type": "execute_result"
    }
   ],
   "source": [
    "#import data train\n",
    "\n",
    "train = pd.read_csv(\"train.csv\")\n",
    "train = train[['text_a', 'label']]\n",
    "train['label'] = train['label'].replace([\"no\", 'yes'], [0, 1])\n",
    "train.head()\n"
   ]
  },
  {
   "cell_type": "code",
   "execution_count": 32,
   "id": "8eacb102",
   "metadata": {},
   "outputs": [
    {
     "data": {
      "text/html": [
       "<div>\n",
       "<style scoped>\n",
       "    .dataframe tbody tr th:only-of-type {\n",
       "        vertical-align: middle;\n",
       "    }\n",
       "\n",
       "    .dataframe tbody tr th {\n",
       "        vertical-align: top;\n",
       "    }\n",
       "\n",
       "    .dataframe thead th {\n",
       "        text-align: right;\n",
       "    }\n",
       "</style>\n",
       "<table border=\"1\" class=\"dataframe\">\n",
       "  <thead>\n",
       "    <tr style=\"text-align: right;\">\n",
       "      <th></th>\n",
       "      <th>text_a</th>\n",
       "      <th>label</th>\n",
       "    </tr>\n",
       "  </thead>\n",
       "  <tbody>\n",
       "    <tr>\n",
       "      <th>0</th>\n",
       "      <td>jek dajal ga depok bang</td>\n",
       "      <td>0</td>\n",
       "    </tr>\n",
       "    <tr>\n",
       "      <th>1</th>\n",
       "      <td>detikcom untung depok masuk wilayah nya ridwan...</td>\n",
       "      <td>0</td>\n",
       "    </tr>\n",
       "    <tr>\n",
       "      <th>2</th>\n",
       "      <td>df dom jakarta depok yg gunain vc cabang nya c...</td>\n",
       "      <td>0</td>\n",
       "    </tr>\n",
       "    <tr>\n",
       "      <th>3</th>\n",
       "      <td>your2rl depok jkt</td>\n",
       "      <td>0</td>\n",
       "    </tr>\n",
       "    <tr>\n",
       "      <th>4</th>\n",
       "      <td>doakan indonesia selamat virus corona pkb depo...</td>\n",
       "      <td>1</td>\n",
       "    </tr>\n",
       "  </tbody>\n",
       "</table>\n",
       "</div>"
      ],
      "text/plain": [
       "                                              text_a  label\n",
       "0                            jek dajal ga depok bang      0\n",
       "1  detikcom untung depok masuk wilayah nya ridwan...      0\n",
       "2  df dom jakarta depok yg gunain vc cabang nya c...      0\n",
       "3                                  your2rl depok jkt      0\n",
       "4  doakan indonesia selamat virus corona pkb depo...      1"
      ]
     },
     "execution_count": 32,
     "metadata": {},
     "output_type": "execute_result"
    }
   ],
   "source": [
    "#import data test\n",
    "test = pd.read_csv(\"test.csv\")\n",
    "test = test[['text_a', 'label']]\n",
    "test['label'] = test['label'].replace([\"no\", 'yes'], [0, 1])\n",
    "test.head()"
   ]
  },
  {
   "cell_type": "code",
   "execution_count": 33,
   "id": "fa8bc15c",
   "metadata": {},
   "outputs": [
    {
     "name": "stdout",
     "output_type": "stream",
     "text": [
      "<class 'pandas.core.frame.DataFrame'>\n",
      "RangeIndex: 21601 entries, 0 to 21600\n",
      "Data columns (total 2 columns):\n",
      " #   Column  Non-Null Count  Dtype \n",
      "---  ------  --------------  ----- \n",
      " 0   text_a  21601 non-null  object\n",
      " 1   label   21601 non-null  int64 \n",
      "dtypes: int64(1), object(1)\n",
      "memory usage: 337.6+ KB\n"
     ]
    }
   ],
   "source": [
    "train.info()"
   ]
  },
  {
   "cell_type": "code",
   "execution_count": 34,
   "id": "cad4ed21",
   "metadata": {},
   "outputs": [
    {
     "name": "stdout",
     "output_type": "stream",
     "text": [
      "<class 'pandas.core.frame.DataFrame'>\n",
      "RangeIndex: 2800 entries, 0 to 2799\n",
      "Data columns (total 2 columns):\n",
      " #   Column  Non-Null Count  Dtype \n",
      "---  ------  --------------  ----- \n",
      " 0   text_a  2800 non-null   object\n",
      " 1   label   2800 non-null   int64 \n",
      "dtypes: int64(1), object(1)\n",
      "memory usage: 43.9+ KB\n"
     ]
    }
   ],
   "source": [
    "test.info()"
   ]
  },
  {
   "cell_type": "code",
   "execution_count": 35,
   "id": "d24fc6e9",
   "metadata": {},
   "outputs": [
    {
     "data": {
      "text/plain": [
       "text_a    0\n",
       "label     0\n",
       "dtype: int64"
      ]
     },
     "execution_count": 35,
     "metadata": {},
     "output_type": "execute_result"
    }
   ],
   "source": [
    "train.isnull().sum()"
   ]
  },
  {
   "cell_type": "code",
   "execution_count": 36,
   "id": "cefc6a39",
   "metadata": {},
   "outputs": [
    {
     "data": {
      "text/plain": [
       "0    15512\n",
       "1     6089\n",
       "Name: label, dtype: int64"
      ]
     },
     "execution_count": 36,
     "metadata": {},
     "output_type": "execute_result"
    }
   ],
   "source": [
    "train['label'].value_counts()"
   ]
  },
  {
   "cell_type": "code",
   "execution_count": 37,
   "id": "57fe9bb3",
   "metadata": {},
   "outputs": [
    {
     "data": {
      "text/plain": [
       "text_a    0\n",
       "label     0\n",
       "dtype: int64"
      ]
     },
     "execution_count": 37,
     "metadata": {},
     "output_type": "execute_result"
    }
   ],
   "source": [
    "test.isnull().sum()"
   ]
  },
  {
   "cell_type": "code",
   "execution_count": 38,
   "id": "b8013532",
   "metadata": {},
   "outputs": [
    {
     "data": {
      "text/plain": [
       "0    2093\n",
       "1     707\n",
       "Name: label, dtype: int64"
      ]
     },
     "execution_count": 38,
     "metadata": {},
     "output_type": "execute_result"
    }
   ],
   "source": [
    "test['label'].value_counts()"
   ]
  },
  {
   "cell_type": "code",
   "execution_count": 39,
   "id": "1cb88abb",
   "metadata": {},
   "outputs": [],
   "source": [
    "from sklearn.feature_extraction.text import CountVectorizer\n",
    "from sklearn.feature_extraction.text import TfidfVectorizer\n",
    "\n",
    "vectorizer = CountVectorizer(binary=True, stop_words = 'english')\n",
    "vectorizer.fit(list(test[\"text_a\"]), list(train['text_a']))\n",
    "vectorizerTFIDF = TfidfVectorizer(binary = True, stop_words = 'english')\n",
    "vectorizerTFIDF.fit(list(test[\"text_a\"]), list(train['text_a']))\n",
    "\n",
    "x_train_vec = vectorizer.transform(train['text_a'])\n",
    "x_test_vec = vectorizer.transform(test['text_a'])\n",
    "\n",
    "x_train_vec_tfidf = vectorizerTFIDF.transform(train['text_a'])\n",
    "x_test_vec_tfidf = vectorizerTFIDF.transform(test['text_a'])"
   ]
  },
  {
   "cell_type": "markdown",
   "id": "50db10fc",
   "metadata": {},
   "source": [
    "### svm kernel  radial basis function"
   ]
  },
  {
   "cell_type": "code",
   "execution_count": 40,
   "id": "9060d8e0",
   "metadata": {},
   "outputs": [],
   "source": [
    "#svm model model rbf\n",
    "from sklearn import svm\n",
    "svm_rbf = svm.SVC(kernel = 'rbf')\n",
    "svm_rbf.fit(x_train_vec, train['label'])\n",
    "\n",
    "y_test_pred = svm_rbf.predict(x_test_vec)\n",
    "y_test_pred_tfidf = svm_rbf.predict(x_test_vec_tfidf)"
   ]
  },
  {
   "cell_type": "code",
   "execution_count": 41,
   "id": "a5d646e0",
   "metadata": {},
   "outputs": [
    {
     "name": "stdout",
     "output_type": "stream",
     "text": [
      "accuracy_score: 0.8685714285714285\n",
      "accuracy_score_tfidf: 0.7578571428571429\n"
     ]
    }
   ],
   "source": [
    "#accuracy\n",
    "from sklearn.metrics import accuracy_score\n",
    "\n",
    "accuracy = accuracy_score(test['label'], y_test_pred)\n",
    "accuracy_tfidf = accuracy_score(test['label'], y_test_pred_tfidf)\n",
    "print('accuracy_score:', accuracy)\n",
    "print('accuracy_score_tfidf:', accuracy_tfidf)"
   ]
  },
  {
   "cell_type": "code",
   "execution_count": 42,
   "id": "4a128c65",
   "metadata": {},
   "outputs": [
    {
     "name": "stdout",
     "output_type": "stream",
     "text": [
      "f1_score: 0.6973684210526316\n",
      "f1_score_tfidf: 0.08378378378378379\n"
     ]
    }
   ],
   "source": [
    "#F1 score\n",
    "from sklearn.metrics import f1_score\n",
    "f1 = f1_score(test['label'], y_test_pred)\n",
    "f1_tfidf = f1_score(test['label'], y_test_pred_tfidf)\n",
    "print('f1_score:', f1)\n",
    "print('f1_score_tfidf:', f1_tfidf)"
   ]
  },
  {
   "cell_type": "markdown",
   "id": "f7f039fb",
   "metadata": {},
   "source": [
    "### svm kernel linear"
   ]
  },
  {
   "cell_type": "code",
   "execution_count": 43,
   "id": "4824a241",
   "metadata": {},
   "outputs": [],
   "source": [
    "svm_linear = svm.SVC(kernel = 'linear')\n",
    "svm_linear.fit(x_train_vec, train['label'])\n",
    "\n",
    "y_test_pred = svm_linear.predict(x_test_vec)\n",
    "y_test_pred_tfidf = svm_linear.predict(x_test_vec_tfidf)"
   ]
  },
  {
   "cell_type": "code",
   "execution_count": 44,
   "id": "36725531",
   "metadata": {},
   "outputs": [
    {
     "name": "stdout",
     "output_type": "stream",
     "text": [
      "accuracy_score: 0.8303571428571429\n",
      "accuracy_score_tfidf: 0.77\n"
     ]
    }
   ],
   "source": [
    "accuracy = accuracy_score(test['label'], y_test_pred)\n",
    "accuracy_tfidf = accuracy_score(test['label'], y_test_pred_tfidf)\n",
    "print('accuracy_score:', accuracy)\n",
    "print('accuracy_score_tfidf:', accuracy_tfidf)"
   ]
  },
  {
   "cell_type": "code",
   "execution_count": 45,
   "id": "ec6152c2",
   "metadata": {},
   "outputs": [
    {
     "name": "stdout",
     "output_type": "stream",
     "text": [
      "f1_score: 0.676209952283572\n",
      "f1_score_tfidf: 0.17857142857142858\n"
     ]
    }
   ],
   "source": [
    "f1 = f1_score(test['label'], y_test_pred)\n",
    "f1_tfidf = f1_score(test['label'], y_test_pred_tfidf)\n",
    "print('f1_score:', f1)\n",
    "print('f1_score_tfidf:', f1_tfidf)"
   ]
  },
  {
   "cell_type": "markdown",
   "id": "3ce780c2",
   "metadata": {},
   "source": [
    "### svm kernel poly derajat 2"
   ]
  },
  {
   "cell_type": "code",
   "execution_count": 46,
   "id": "0a716980",
   "metadata": {},
   "outputs": [],
   "source": [
    "svm_poly = svm.SVC(kernel = 'poly', degree=2)\n",
    "svm_poly.fit(x_train_vec, train['label'])\n",
    "\n",
    "y_test_pred = svm_poly.predict(x_test_vec)\n",
    "y_test_pred_tfidf = svm_poly.predict(x_test_vec_tfidf)"
   ]
  },
  {
   "cell_type": "code",
   "execution_count": 47,
   "id": "a5385b87",
   "metadata": {},
   "outputs": [
    {
     "name": "stdout",
     "output_type": "stream",
     "text": [
      "accuracy_score: 0.8392857142857143\n",
      "accuracy_score_tfidf: 0.7475\n"
     ]
    }
   ],
   "source": [
    "accuracy = accuracy_score(test['label'], y_test_pred)\n",
    "accuracy_tfidf = accuracy_score(test['label'], y_test_pred_tfidf)\n",
    "print('accuracy_score:', accuracy)\n",
    "print('accuracy_score_tfidf:', accuracy_tfidf)"
   ]
  },
  {
   "cell_type": "code",
   "execution_count": 48,
   "id": "0a6e6e1a",
   "metadata": {},
   "outputs": [
    {
     "name": "stdout",
     "output_type": "stream",
     "text": [
      "f1_score: 0.64\n",
      "f1_score_tfidf: 0.0\n"
     ]
    }
   ],
   "source": [
    "f1 = f1_score(test['label'], y_test_pred)\n",
    "f1_tfidf = f1_score(test['label'], y_test_pred_tfidf)\n",
    "print('f1_score:', f1)\n",
    "print('f1_score_tfidf:', f1_tfidf)"
   ]
  },
  {
   "cell_type": "code",
   "execution_count": null,
   "id": "fae28289",
   "metadata": {},
   "outputs": [],
   "source": []
  }
 ],
 "metadata": {
  "kernelspec": {
   "display_name": "Python 3 (ipykernel)",
   "language": "python",
   "name": "python3"
  },
  "language_info": {
   "codemirror_mode": {
    "name": "ipython",
    "version": 3
   },
   "file_extension": ".py",
   "mimetype": "text/x-python",
   "name": "python",
   "nbconvert_exporter": "python",
   "pygments_lexer": "ipython3",
   "version": "3.10.6"
  }
 },
 "nbformat": 4,
 "nbformat_minor": 5
}
